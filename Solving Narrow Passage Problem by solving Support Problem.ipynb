{
  "cells": [
    {
      "cell_type": "code",
      "execution_count": null,
      "id": "be2a5b6c",
      "metadata": {
        "id": "be2a5b6c"
      },
      "outputs": [],
      "source": [
        "import numpy as np\n",
        "import matplotlib.pyplot as plt\n",
        "import seaborn as sns"
      ]
    },
    {
      "cell_type": "markdown",
      "id": "8ef34e5f",
      "metadata": {
        "id": "8ef34e5f"
      },
      "source": [
        "## Օժանդակ խնդիր` func1\n",
        "\n",
        "https://blogger.googleusercontent.com/img/a/AVvXsEiPFFKo3Tw7uHpeC4kcYYRNaq9dSmtQFrt8V9th0yctZXDJUtPP1Fl9G_I6IG40xvquPb0EvzBBV_AejyYieaUzF-zJeE66boW1WBfkt1dWD33ejJ4V3C-FJt2SiNIw3TD_FmEwDuhZYqYvseKVc44wxvbvDprJmsmEEpVpCnSeRzZ8PmzZDPQ2Gm1G1NmD\n",
        "\n",
        "https://blogger.googleusercontent.com/img/a/AVvXsEivQzj9V8msNYcq04qDdTgBDqcnVBm7gAi7yPcrtmvYBLwPuiH97YofdBMVVUu8dHVxhfEGrYxX3G88oPN3Tu0tlU0OxV0c1OJlyOie6kwdmE8GxvMbjIZHQwaEnMJJEXVQLGJIxXZrhWWTMrh1Gi-MvFF1W84j-7BqSz3aUtKzX555FFt7LwUBn82UBDbc"
      ]
    },
    {
      "cell_type": "code",
      "execution_count": null,
      "id": "022d3ff5",
      "metadata": {
        "id": "022d3ff5"
      },
      "outputs": [],
      "source": [
        "def func1(M_bool, M, a, b, verbose=False):   # M-(m, n) matrix, a-array with length m, b-array with length n\n",
        "    if verbose:\n",
        "        sns.heatmap(M, annot=True, square=True, annot_kws={\"size\": 30}, mask=M_bool==0, cmap='Blues', cbar=False )\n",
        "        plt.show()\n",
        "    m, n = M.shape\n",
        "    n_toxer, n_syuner = [0]*m, [0]*n  # նշված տողեր, նշված սյուներ\n",
        "    d_toxer, d_syuner = [0]*m, [0]*n  # դիտարկված տողեր, դիտարկված սյուներ\n",
        "\n",
        "    # նշենք այն M[i] տողերը, որոնց համար M[i].sum() < a[i]\n",
        "    for i in range(m):\n",
        "        if M[i].sum() < a[i]:\n",
        "            n_toxer[i] = (-1, a[i]-M[i].sum())\n",
        "    if verbose:\n",
        "        print('n_toxer: ', n_toxer)\n",
        "\n",
        "    s = True\n",
        "    while s:\n",
        "        # նշված, չդիտարկված տողերի դիտարկում\n",
        "        for i in range(m):\n",
        "            if n_toxer[i] != 0 and d_toxer[i] == 0:\n",
        "                for j in range(n):\n",
        "                    if M_bool[i][j] and n_syuner[j] == 0:\n",
        "                        n_syuner[j] = (i, n_toxer[i][1])\n",
        "                        if M[:, j].sum() < b[j]:  # B Փուլ\n",
        "                            arr = [j]\n",
        "                            syun = j\n",
        "                            while arr[-1] != -1:\n",
        "                                tox = n_syuner[syun][0]\n",
        "                                arr.append(tox)\n",
        "                                syun = n_toxer[tox][0]\n",
        "                                arr.append(syun)\n",
        "                            arr = arr[:-1]\n",
        "                            if verbose:\n",
        "                                print('j(0), i(1), j(1), ..., j(h-1), i(h) ->', arr)\n",
        "                            add = min([n_syuner[j][1], b[j]-M[:, j].sum()])\n",
        "                            for k in range(0, len(arr), 2):\n",
        "                                M[arr[k+1], arr[k]] += add\n",
        "                            for k in range(1, len(arr)-2, 2):\n",
        "                                M[arr[k], arr[k+1]] -= add\n",
        "\n",
        "                            return func1(M_bool, M, a, b, verbose=verbose)\n",
        "                d_toxer[i] = 1\n",
        "        if verbose:\n",
        "            print('d_toxer: ', d_toxer)\n",
        "            print('n_syuner: ', n_syuner)\n",
        "\n",
        "        # նշված, չդիտարկված սյուների դիտարկում\n",
        "        for j in range(n):\n",
        "            if n_syuner[j] != 0 and d_syuner[j] == 0:\n",
        "                for i in range(m):\n",
        "                    if M[i][j] > 0 and n_toxer[i] == 0:\n",
        "                        n_toxer[i] = (j, min(M[i][j], n_syuner[j][1]))\n",
        "                d_syuner[j] = 1\n",
        "        if verbose:\n",
        "            print(\"d_syuner: \", d_syuner)\n",
        "            print('n_toxer: ', n_toxer)\n",
        "\n",
        "        s = False\n",
        "        for i in range(m):\n",
        "            if (n_toxer[i] != 0 and d_toxer[i] == 0):\n",
        "                s = True\n",
        "\n",
        "    return M"
      ]
    },
    {
      "cell_type": "markdown",
      "id": "5ce87d81",
      "metadata": {
        "id": "5ce87d81"
      },
      "source": [
        "## Նեղ տեղերի խնդիր` func2\n",
        "\n",
        "https://blogger.googleusercontent.com/img/a/AVvXsEhrQ9HfLSoV2NUW3UBsUaNcz6MBxA6IIzfdInPgL5nZuSbadcsCmzc3HcSPsgwnQUiQDEIqhWKwh5ZyHV7vgk9A7_NvML8HoQy0AG9J1tGcrdS310kIqC1-PimXZFiqv0wbPEQMB6z0H7Ob_QJd1CaxLGwuvsz1KJa4bKUMsPTGNWmdF2s1j2toXx7r14CN\n",
        "\n",
        "https://blogger.googleusercontent.com/img/a/AVvXsEhWhT49mDHxQPOnXya4Ao-ugS7Jm7OLIhNsr0DfsX1FR_c2qFOfbHGsxnqgqWzRjVx21LlQtJX5H5g0rxvP_SLFKDbkzym45Bl9bBqXGydnMs6OhbM-e3tQs8sN_Sp1ptHhgXJmzZRyZHOAfQ2JFTl2BCKxkk2T90QBvD1Z3a2wcxTKFRmisGN4b7ZMmU1e"
      ]
    },
    {
      "cell_type": "code",
      "execution_count": null,
      "id": "0ed3dd4e",
      "metadata": {
        "scrolled": false,
        "id": "0ed3dd4e"
      },
      "outputs": [],
      "source": [
        "def func2(M, verbose=False):\n",
        "    n = M.shape[0]\n",
        "    b0 = min(M.max(axis=0).min(), M.max(axis=1).min())\n",
        "    opt = b0\n",
        "    # 1-ին քայլ՝ կազմում ենք  M մատրիցի  β0-ին չգերազանցող բոլոր տարրերի կարգավորված\n",
        "    # հաջորդականությունը՝  β0 > β1 > β2 >… և  k պարամետրին վերագրում 0 արժեք։\n",
        "    B = M.flatten()\n",
        "    B = -np.sort(-np.array([i for i in set(B) if i <= opt]))\n",
        "    if verbose:\n",
        "        print('B = ', B)\n",
        "    k = 0\n",
        "\n",
        "    while True:  # 2-րդ քայլ\n",
        "        I = np.zeros(n)\n",
        "        J = np.zeros(n)\n",
        "        M_bool = (M >= B[k])\n",
        "        M_new = np.zeros_like(M)\n",
        "        for i in range(n):\n",
        "            for j in range(n):\n",
        "                if M_bool[i][j] and I[i] == 0 and J[j] == 0:\n",
        "                    M_new[i][j] = 1\n",
        "                    I[i] = 1\n",
        "                    J[j] = 1\n",
        "        if verbose:\n",
        "            print('\\nk = ', k, ' B[k] = ', B[k])\n",
        "        M_result = func1(M_bool, M_new, np.ones(n), np.ones(n), verbose=verbose)\n",
        "        if M_result.sum() == n: # Եթե դասավորված 1-երի քանակը  n է, ալգորիթմն ավարտում է աշխատանքը\n",
        "            opt = B[k]\n",
        "            break\n",
        "        # հակառակ դեպքում  k-ի արժեքին ավելացվում է 1 և նորից կատարվում է 2-րդ քայլը\n",
        "        k += 1\n",
        "    return opt, M_bool, M_result"
      ]
    },
    {
      "cell_type": "markdown",
      "id": "f20230f4",
      "metadata": {
        "id": "f20230f4"
      },
      "source": [
        "##   Examples"
      ]
    },
    {
      "cell_type": "code",
      "execution_count": null,
      "id": "11fc8865",
      "metadata": {
        "scrolled": false,
        "colab": {
          "base_uri": "https://localhost:8080/",
          "height": 321
        },
        "id": "11fc8865",
        "outputId": "8d10f7cc-b347-4331-ae9c-492b3ea5a252"
      },
      "outputs": [
        {
          "output_type": "stream",
          "name": "stdout",
          "text": [
            "Optimal value is:  5\n"
          ]
        },
        {
          "output_type": "display_data",
          "data": {
            "text/plain": [
              "<Figure size 640x480 with 2 Axes>"
            ],
            "image/png": "[encoded data removed]"
          },
          "metadata": {}
        },
        {
          "output_type": "execute_result",
          "data": {
            "text/plain": [
              "[(0, 2), (1, 1), (2, 0), (3, 3), (4, 5), (5, 4)]"
            ]
          },
          "metadata": {},
          "execution_count": 4
        }
      ],
      "source": [
        "M = np.array([[7, 6, 5, 3, 2, 2],\n",
        "              [8, 5, 4, 2, 3, 3],\n",
        "              [8, 5, 2, 3, 3, 3],\n",
        "              [2, 3, 9, 8, 4, 2],\n",
        "              [3, 1, 6, 4, 9, 8],\n",
        "              [2, 2, 8, 4, 8, 3]])\n",
        "\n",
        "opt, M_bool, M_result = func2(M, False)\n",
        "\n",
        "print('Optimal value is: ', opt)\n",
        "fig, (ax1, ax2) = plt.subplots(1, 2)\n",
        "sns.heatmap(M, annot=True, annot_kws={\"size\": 20}, mask=M_bool==0, vmin=0, cbar=False, cmap='Greys', ax=ax1, square=True)\n",
        "sns.heatmap(M, annot=True, annot_kws={\"size\": 20}, mask=M_result==0, vmin=0, cbar=False, cmap='Greys', ax=ax2, square=True)\n",
        "plt.show()\n",
        "\n",
        "[cell for cell in zip(np.where(M_result==1)[0], np.where(M_result==1)[1])]"
      ]
    },
    {
      "cell_type": "markdown",
      "id": "a2d3ab46",
      "metadata": {
        "id": "a2d3ab46"
      },
      "source": [
        "<div>\n",
        "    <img src='https://blogger.googleusercontent.com/img/a/AVvXsEiPFFKo3Tw7uHpeC4kcYYRNaq9dSmtQFrt8V9th0yctZXDJUtPP1Fl9G_I6IG40xvquPb0EvzBBV_AejyYieaUzF-zJeE66boW1WBfkt1dWD33ejJ4V3C-FJt2SiNIw3TD_FmEwDuhZYqYvseKVc44wxvbvDprJmsmEEpVpCnSeRzZ8PmzZDPQ2Gm1G1NmD', width=450>\n",
        "<div>"
      ]
    },
    {
      "cell_type": "markdown",
      "id": "d593dfac",
      "metadata": {
        "id": "d593dfac"
      },
      "source": [
        "<div>\n",
        "    <img src='https://blogger.googleusercontent.com/img/a/AVvXsEivQzj9V8msNYcq04qDdTgBDqcnVBm7gAi7yPcrtmvYBLwPuiH97YofdBMVVUu8dHVxhfEGrYxX3G88oPN3Tu0tlU0OxV0c1OJlyOie6kwdmE8GxvMbjIZHQwaEnMJJEXVQLGJIxXZrhWWTMrh1Gi-MvFF1W84j-7BqSz3aUtKzX555FFt7LwUBn82UBDbc', width=450>\n",
        "<div>"
      ]
    },
    {
      "cell_type": "markdown",
      "id": "45b815fb",
      "metadata": {
        "id": "45b815fb"
      },
      "source": [
        "<div>\n",
        "    <img src='https://blogger.googleusercontent.com/img/a/AVvXsEhrQ9HfLSoV2NUW3UBsUaNcz6MBxA6IIzfdInPgL5nZuSbadcsCmzc3HcSPsgwnQUiQDEIqhWKwh5ZyHV7vgk9A7_NvML8HoQy0AG9J1tGcrdS310kIqC1-PimXZFiqv0wbPEQMB6z0H7Ob_QJd1CaxLGwuvsz1KJa4bKUMsPTGNWmdF2s1j2toXx7r14CN', width=450>\n",
        "<div>"
      ]
    },
    {
      "cell_type": "markdown",
      "id": "f4785768",
      "metadata": {
        "id": "f4785768"
      },
      "source": [
        "<div>\n",
        "    <img src='https://blogger.googleusercontent.com/img/a/AVvXsEhWhT49mDHxQPOnXya4Ao-ugS7Jm7OLIhNsr0DfsX1FR_c2qFOfbHGsxnqgqWzRjVx21LlQtJX5H5g0rxvP_SLFKDbkzym45Bl9bBqXGydnMs6OhbM-e3tQs8sN_Sp1ptHhgXJmzZRyZHOAfQ2JFTl2BCKxkk2T90QBvD1Z3a2wcxTKFRmisGN4b7ZMmU1e', width=450>\n",
        "<div>"
      ]
    },
    {
      "cell_type": "code",
      "execution_count": null,
      "id": "a44696bc",
      "metadata": {
        "id": "a44696bc"
      },
      "outputs": [],
      "source": []
    }
  ],
  "metadata": {
    "celltoolbar": "Слайд-шоу",
    "kernelspec": {
      "display_name": "Python 3 (ipykernel)",
      "language": "python",
      "name": "python3"
    },
    "language_info": {
      "codemirror_mode": {
        "name": "ipython",
        "version": 3
      },
      "file_extension": ".py",
      "mimetype": "text/x-python",
      "name": "python",
      "nbconvert_exporter": "python",
      "pygments_lexer": "ipython3",
      "version": "3.9.13"
    },
    "colab": {
      "provenance": []
    }
  },
  "nbformat": 4,
  "nbformat_minor": 5
}
